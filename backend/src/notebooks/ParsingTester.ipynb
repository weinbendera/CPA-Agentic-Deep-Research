{
 "cells": [
  {
   "metadata": {},
   "cell_type": "markdown",
   "source": "# Parsing Choices",
   "id": "d4ba60dcfcf39bdf"
  },
  {
   "metadata": {},
   "cell_type": "markdown",
   "source": "## Only Uploading Document",
   "id": "c608ae0f6e2a525e"
  },
  {
   "metadata": {},
   "cell_type": "markdown",
   "source": "#### Document Loader into Text",
   "id": "a894eaebfcb04eac"
  },
  {
   "metadata": {
    "ExecuteTime": {
     "end_time": "2025-04-04T21:10:26.681880Z",
     "start_time": "2025-04-04T21:10:22.319860Z"
    }
   },
   "cell_type": "code",
   "source": [
    "from langchain_community.document_loaders import PyPDFLoader\n",
    "\n",
    "loader = PyPDFLoader(\"../data/sample_returns/dummy1.pdf\")\n",
    "documents = loader.load()\n",
    "\n",
    "# Can grab individual pages, could also concatenate all pages into a single text\n",
    "print(documents[0].page_content)\n",
    "\n",
    "# OR Concatenate all pages into a single text\n",
    "full_text = \"\\n\\n\".join([doc.page_content for doc in documents])"
   ],
   "id": "a5b364082daa19c4",
   "outputs": [
    {
     "name": "stdout",
     "output_type": "stream",
     "text": [
      "GOLDEN STATE ACCOUNTING INC.\n",
      "1221 BRIDGEWAY SUITE 2\n",
      "SAUSALITO, CA 94965\n",
      "415-331-9900\n",
      "May 31, 2024\n",
      "Joseph W and Stacy T Smith\n",
      "16023 Via Del Alba\n",
      "Rancho Santa Fe, CA 92067\n",
      "Dear Joe and Stacy, \n",
      "Your 2023 Federal Individual Income Tax return will be\n",
      "electronically filed with the Internal Revenue Service upon receipt\n",
      "of a signed Form 8879 - IRS e-file Signature Authorization.  There\n",
      "is a balance due of $700.  \n",
      "Make your check payable to the \"United States Treasury\" and mail\n",
      "your Form 1040-V payment voucher on or before April 15, 2024 to: \n",
      "INTERNAL REVENUE SERVICE\n",
      "P.O. BOX 802501\n",
      "CINCINNATI, OH 45280-2501\n",
      "The deductible contribution to your spouse's Health Savings Account\n",
      "for 2023 is $5,350.  To ensure that your spouse's contribution is\n",
      "allowable, $5,350 must be deposited to your spouse's account on or\n",
      "before April 15, 2024.  \n",
      "Your 2023 California Individual Income Tax Return will be\n",
      "electronically filed with the Franchise Tax Board upon receipt of a\n",
      "signed Form 8879 - California e-file Signature Authorization.  No\n",
      "tax is payable with the filing of this return.  The refund of $5,553\n",
      "will be directly deposited into your checking account.  \n",
      "Your 2024 estimated tax payment schedule is listed below.  If not\n",
      "paying electronically, mail your payments to the address shown on\n",
      "your estimated tax payment vouchers.  \n",
      "Due Date Federal\n",
      "4/15/24 $ 1,000\n",
      "6/17/24 1,000\n",
      "9/16/24 1,000\n",
      "1/15/25 1,000\n",
      "----------\n",
      "$ 4,000\n",
      "As an alternative to paying by paper check, federal income tax\n",
      "payments can be made using the IRS Direct Pay electronic payment\n",
      "method. This service is free and can be used to pay your individual\n",
      "tax bill or estimated tax payment directly from your checking or\n",
      "savings account. To access online, visit www.irs.gov/payments for\n",
      "more information.  \n",
      "Please be sure to call if you have any questions.\n"
     ]
    }
   ],
   "execution_count": 1
  },
  {
   "metadata": {},
   "cell_type": "markdown",
   "source": "#### OCR for Images",
   "id": "64bde6b0a47ff06a"
  },
  {
   "metadata": {
    "ExecuteTime": {
     "end_time": "2025-04-07T00:25:56.274683Z",
     "start_time": "2025-04-07T00:25:56.008254Z"
    }
   },
   "cell_type": "code",
   "source": [
    "from langchain_community.document_loaders import UnstructuredPDFLoader\n",
    "\n",
    "# TODO NOT WORKING, dont have a scanned PDF example\n",
    "pdf_image = \"../data/sample_returns/dummy1_scanned.pdf\"\n",
    "loader = UnstructuredPDFLoader(pdf_image, mode=\"elements\", strategy=\"ocr_only\")\n",
    "documents = loader.load()\n",
    "\n",
    "print(documents[0].page_content)"
   ],
   "id": "b2bd3105af222853",
   "outputs": [
    {
     "ename": "ImportError",
     "evalue": "unstructured package not found, please install it with `pip install unstructured`",
     "output_type": "error",
     "traceback": [
      "\u001B[1;31m---------------------------------------------------------------------------\u001B[0m",
      "\u001B[1;31mModuleNotFoundError\u001B[0m                       Traceback (most recent call last)",
      "File \u001B[1;32m~\\AppData\\Local\\Programs\\Python\\Python313\\Lib\\site-packages\\langchain_community\\document_loaders\\unstructured.py:59\u001B[0m, in \u001B[0;36mUnstructuredBaseLoader.__init__\u001B[1;34m(self, mode, post_processors, **unstructured_kwargs)\u001B[0m\n\u001B[0;32m     58\u001B[0m \u001B[38;5;28;01mtry\u001B[39;00m:\n\u001B[1;32m---> 59\u001B[0m     \u001B[38;5;28;01mimport\u001B[39;00m \u001B[38;5;21;01munstructured\u001B[39;00m  \u001B[38;5;66;03m# noqa:F401\u001B[39;00m\n\u001B[0;32m     60\u001B[0m \u001B[38;5;28;01mexcept\u001B[39;00m \u001B[38;5;167;01mImportError\u001B[39;00m:\n",
      "\u001B[1;31mModuleNotFoundError\u001B[0m: No module named 'unstructured'",
      "\nDuring handling of the above exception, another exception occurred:\n",
      "\u001B[1;31mImportError\u001B[0m                               Traceback (most recent call last)",
      "Cell \u001B[1;32mIn[15], line 5\u001B[0m\n\u001B[0;32m      3\u001B[0m \u001B[38;5;66;03m# TODO NOT WORKING, dont have a scanned PDF example\u001B[39;00m\n\u001B[0;32m      4\u001B[0m pdf_image \u001B[38;5;241m=\u001B[39m \u001B[38;5;124m\"\u001B[39m\u001B[38;5;124m../data/sample_returns/dummy1_scanned.pdf\u001B[39m\u001B[38;5;124m\"\u001B[39m\n\u001B[1;32m----> 5\u001B[0m loader \u001B[38;5;241m=\u001B[39m \u001B[43mUnstructuredPDFLoader\u001B[49m\u001B[43m(\u001B[49m\u001B[43mpdf_image\u001B[49m\u001B[43m,\u001B[49m\u001B[43m \u001B[49m\u001B[43mmode\u001B[49m\u001B[38;5;241;43m=\u001B[39;49m\u001B[38;5;124;43m\"\u001B[39;49m\u001B[38;5;124;43melements\u001B[39;49m\u001B[38;5;124;43m\"\u001B[39;49m\u001B[43m,\u001B[49m\u001B[43m \u001B[49m\u001B[43mstrategy\u001B[49m\u001B[38;5;241;43m=\u001B[39;49m\u001B[38;5;124;43m\"\u001B[39;49m\u001B[38;5;124;43mocr_only\u001B[39;49m\u001B[38;5;124;43m\"\u001B[39;49m\u001B[43m)\u001B[49m\n\u001B[0;32m      6\u001B[0m documents \u001B[38;5;241m=\u001B[39m loader\u001B[38;5;241m.\u001B[39mload()\n\u001B[0;32m      8\u001B[0m \u001B[38;5;28mprint\u001B[39m(documents[\u001B[38;5;241m0\u001B[39m]\u001B[38;5;241m.\u001B[39mpage_content)\n",
      "File \u001B[1;32m~\\AppData\\Local\\Programs\\Python\\Python313\\Lib\\site-packages\\langchain_community\\document_loaders\\pdf.py:89\u001B[0m, in \u001B[0;36mUnstructuredPDFLoader.__init__\u001B[1;34m(self, file_path, mode, **unstructured_kwargs)\u001B[0m\n\u001B[0;32m     80\u001B[0m \u001B[38;5;250m\u001B[39m\u001B[38;5;124;03m\"\"\"\u001B[39;00m\n\u001B[0;32m     81\u001B[0m \n\u001B[0;32m     82\u001B[0m \u001B[38;5;124;03mArgs:\u001B[39;00m\n\u001B[1;32m   (...)\u001B[0m\n\u001B[0;32m     86\u001B[0m \u001B[38;5;124;03m    **unstructured_kwargs: Any kwargs to pass to the unstructured.\u001B[39;00m\n\u001B[0;32m     87\u001B[0m \u001B[38;5;124;03m\"\"\"\u001B[39;00m\n\u001B[0;32m     88\u001B[0m file_path \u001B[38;5;241m=\u001B[39m \u001B[38;5;28mstr\u001B[39m(file_path)\n\u001B[1;32m---> 89\u001B[0m \u001B[38;5;28;43msuper\u001B[39;49m\u001B[43m(\u001B[49m\u001B[43m)\u001B[49m\u001B[38;5;241;43m.\u001B[39;49m\u001B[38;5;21;43m__init__\u001B[39;49m\u001B[43m(\u001B[49m\u001B[43mfile_path\u001B[49m\u001B[38;5;241;43m=\u001B[39;49m\u001B[43mfile_path\u001B[49m\u001B[43m,\u001B[49m\u001B[43m \u001B[49m\u001B[43mmode\u001B[49m\u001B[38;5;241;43m=\u001B[39;49m\u001B[43mmode\u001B[49m\u001B[43m,\u001B[49m\u001B[43m \u001B[49m\u001B[38;5;241;43m*\u001B[39;49m\u001B[38;5;241;43m*\u001B[39;49m\u001B[43munstructured_kwargs\u001B[49m\u001B[43m)\u001B[49m\n",
      "File \u001B[1;32m~\\AppData\\Local\\Programs\\Python\\Python313\\Lib\\site-packages\\langchain_core\\_api\\deprecation.py:221\u001B[0m, in \u001B[0;36mdeprecated.<locals>.deprecate.<locals>.finalize.<locals>.warn_if_direct_instance\u001B[1;34m(self, *args, **kwargs)\u001B[0m\n\u001B[0;32m    219\u001B[0m     warned \u001B[38;5;241m=\u001B[39m \u001B[38;5;28;01mTrue\u001B[39;00m\n\u001B[0;32m    220\u001B[0m     emit_warning()\n\u001B[1;32m--> 221\u001B[0m \u001B[38;5;28;01mreturn\u001B[39;00m \u001B[43mwrapped\u001B[49m\u001B[43m(\u001B[49m\u001B[38;5;28;43mself\u001B[39;49m\u001B[43m,\u001B[49m\u001B[43m \u001B[49m\u001B[38;5;241;43m*\u001B[39;49m\u001B[43margs\u001B[49m\u001B[43m,\u001B[49m\u001B[43m \u001B[49m\u001B[38;5;241;43m*\u001B[39;49m\u001B[38;5;241;43m*\u001B[39;49m\u001B[43mkwargs\u001B[49m\u001B[43m)\u001B[49m\n",
      "File \u001B[1;32m~\\AppData\\Local\\Programs\\Python\\Python313\\Lib\\site-packages\\langchain_community\\document_loaders\\unstructured.py:213\u001B[0m, in \u001B[0;36mUnstructuredFileLoader.__init__\u001B[1;34m(self, file_path, mode, **unstructured_kwargs)\u001B[0m\n\u001B[0;32m    210\u001B[0m \u001B[38;5;250m\u001B[39m\u001B[38;5;124;03m\"\"\"Initialize with file path.\"\"\"\u001B[39;00m\n\u001B[0;32m    211\u001B[0m \u001B[38;5;28mself\u001B[39m\u001B[38;5;241m.\u001B[39mfile_path \u001B[38;5;241m=\u001B[39m file_path\n\u001B[1;32m--> 213\u001B[0m \u001B[38;5;28;43msuper\u001B[39;49m\u001B[43m(\u001B[49m\u001B[43m)\u001B[49m\u001B[38;5;241;43m.\u001B[39;49m\u001B[38;5;21;43m__init__\u001B[39;49m\u001B[43m(\u001B[49m\u001B[43mmode\u001B[49m\u001B[38;5;241;43m=\u001B[39;49m\u001B[43mmode\u001B[49m\u001B[43m,\u001B[49m\u001B[43m \u001B[49m\u001B[38;5;241;43m*\u001B[39;49m\u001B[38;5;241;43m*\u001B[39;49m\u001B[43munstructured_kwargs\u001B[49m\u001B[43m)\u001B[49m\n",
      "File \u001B[1;32m~\\AppData\\Local\\Programs\\Python\\Python313\\Lib\\site-packages\\langchain_community\\document_loaders\\unstructured.py:61\u001B[0m, in \u001B[0;36mUnstructuredBaseLoader.__init__\u001B[1;34m(self, mode, post_processors, **unstructured_kwargs)\u001B[0m\n\u001B[0;32m     59\u001B[0m     \u001B[38;5;28;01mimport\u001B[39;00m \u001B[38;5;21;01munstructured\u001B[39;00m  \u001B[38;5;66;03m# noqa:F401\u001B[39;00m\n\u001B[0;32m     60\u001B[0m \u001B[38;5;28;01mexcept\u001B[39;00m \u001B[38;5;167;01mImportError\u001B[39;00m:\n\u001B[1;32m---> 61\u001B[0m     \u001B[38;5;28;01mraise\u001B[39;00m \u001B[38;5;167;01mImportError\u001B[39;00m(\n\u001B[0;32m     62\u001B[0m         \u001B[38;5;124m\"\u001B[39m\u001B[38;5;124munstructured package not found, please install it with \u001B[39m\u001B[38;5;124m\"\u001B[39m\n\u001B[0;32m     63\u001B[0m         \u001B[38;5;124m\"\u001B[39m\u001B[38;5;124m`pip install unstructured`\u001B[39m\u001B[38;5;124m\"\u001B[39m\n\u001B[0;32m     64\u001B[0m     )\n\u001B[0;32m     66\u001B[0m \u001B[38;5;66;03m# `single` - elements are combined into one (default)\u001B[39;00m\n\u001B[0;32m     67\u001B[0m \u001B[38;5;66;03m# `elements` - maintain individual elements\u001B[39;00m\n\u001B[0;32m     68\u001B[0m \u001B[38;5;66;03m# `paged` - elements are combined by page\u001B[39;00m\n\u001B[0;32m     69\u001B[0m _valid_modes \u001B[38;5;241m=\u001B[39m {\u001B[38;5;124m\"\u001B[39m\u001B[38;5;124msingle\u001B[39m\u001B[38;5;124m\"\u001B[39m, \u001B[38;5;124m\"\u001B[39m\u001B[38;5;124melements\u001B[39m\u001B[38;5;124m\"\u001B[39m, \u001B[38;5;124m\"\u001B[39m\u001B[38;5;124mpaged\u001B[39m\u001B[38;5;124m\"\u001B[39m}\n",
      "\u001B[1;31mImportError\u001B[0m: unstructured package not found, please install it with `pip install unstructured`"
     ]
    }
   ],
   "execution_count": 15
  },
  {
   "metadata": {},
   "cell_type": "markdown",
   "source": "## Parsing and Embedding the Text of PDF (To be Used as a Tool for AgentState?)",
   "id": "e7d9bb17f9e3a97c"
  },
  {
   "metadata": {
    "ExecuteTime": {
     "end_time": "2025-04-07T01:48:08.905588Z",
     "start_time": "2025-04-07T01:48:08.884929Z"
    }
   },
   "cell_type": "code",
   "source": [
    "import os\n",
    "from dotenv import load_dotenv\n",
    "\n",
    "# Load environment variables from .env file\n",
    "load_dotenv()"
   ],
   "id": "21ce2b273716de1c",
   "outputs": [
    {
     "data": {
      "text/plain": [
       "True"
      ]
     },
     "execution_count": 4,
     "metadata": {},
     "output_type": "execute_result"
    }
   ],
   "execution_count": 4
  },
  {
   "metadata": {
    "ExecuteTime": {
     "end_time": "2025-04-07T01:49:18.703221Z",
     "start_time": "2025-04-07T01:49:10.657660Z"
    }
   },
   "cell_type": "code",
   "source": [
    "from langchain_community.document_loaders import PyPDFLoader\n",
    "from langchain.text_splitter import RecursiveCharacterTextSplitter\n",
    "from langchain_openai import OpenAIEmbeddings\n",
    "from langchain_community.vectorstores import FAISS\n",
    "\n",
    "pdf = \"../data/sample_returns/dummy1.pdf\"\n",
    "\n",
    "loader = PyPDFLoader(pdf)\n",
    "documents = loader.load()\n",
    "\n",
    "splitter = RecursiveCharacterTextSplitter(\n",
    "    chunk_size=1000,\n",
    "    chunk_overlap=100\n",
    ")\n",
    "\n",
    "chunks = splitter.split_documents(documents)\n",
    "\n",
    "embeddings = OpenAIEmbeddings(model=\"text-embedding-3-small\")\n",
    "vectorstore = FAISS.from_documents(chunks, embeddings)"
   ],
   "id": "b4d0bd47cf83a11",
   "outputs": [],
   "execution_count": 8
  },
  {
   "metadata": {},
   "cell_type": "markdown",
   "source": "#### Tool for Searching Tax Return for AgentState",
   "id": "5e5e5ae88788e2ee"
  },
  {
   "metadata": {
    "ExecuteTime": {
     "end_time": "2025-04-07T01:48:21.006057Z",
     "start_time": "2025-04-07T01:48:20.988833Z"
    }
   },
   "cell_type": "code",
   "source": [
    "from langchain_core.tools import tool\n",
    "\n",
    "@tool\n",
    "def semantic_doc_search(query: str) -> str:\n",
    "    \"\"\"\n",
    "    Search the embedded tax document for relevant information.\n",
    "    Returns relevant excerpts to help answer the user's question.\n",
    "    \"\"\"\n",
    "\n",
    "    results = vectorstore.similarity_search(query, k=3)\n",
    "    return \"\\n\\n\".join([doc.page_content for doc in results])"
   ],
   "id": "8429a585115f6374",
   "outputs": [],
   "execution_count": 6
  },
  {
   "metadata": {
    "ExecuteTime": {
     "end_time": "2025-04-07T01:48:23.562442Z",
     "start_time": "2025-04-07T01:48:22.864664Z"
    }
   },
   "cell_type": "code",
   "source": [
    "response = semantic_doc_search.invoke({\"query\": \"What is the reported total income?\"})\n",
    "print(response)"
   ],
   "id": "93e6ab2d57a86325",
   "outputs": [
    {
     "name": "stdout",
     "output_type": "stream",
     "text": [
      "2023 2022 DIFF\n",
      "INCOME\n",
      " WAGES, SALARIES, TIPS, ETC. . . . . . . . . . . . . . . . . . . . . 266,350 249,408 16,942\n",
      " INTEREST INCOME. . . . . . . . . . . . . . . . . . . . . . . . . . . . . . . . . . . . . . 9,553 13,389 -3,836\n",
      " DIVIDEND INCOME. . . . . . . . . . . . . . . . . . . . . . . . . . . . . . . . . . . . . . 23,877 23,931 -54\n",
      " BUSINESS INCOME. . . . . . . . . . . . . . . . . . . . . . . . . . . . . . . . . . . . . . 0 3,196 -3,196\n",
      " CAPITAL GAIN OR LOSS. . . . . . . . . . . . . . . . . . . . . . . . . . . . . . -3,000 -3,000 0\n",
      " RENT, ROYALTY, PARTNERSHIP, SCORP, TRUST -10,744 589 -11,333\n",
      " TOTAL INCOME. . . . . . . . . . . . . . . . . . . . . . . . . . . . . . . . . . . . . . . . . . 286,036 287,513 -1,477\n",
      "ADJUSTMENTS TO INCOME\n",
      " HEALTH SAVINGS ACCOUNT DEDUCTION. . . . . . . . . . . . 5,350 0 5,350\n",
      " DEDUCTIBLE PART OF SELF-EMPLOYMENT TAX. . . 0 43 -43\n",
      " TOTAL ADJUSTMENTS. . . . . . . . . . . . . . . . . . . . . . . . . . . . . . . . . . . 5,350 43 5,307\n",
      "\n",
      "2023 2022 DIFF\n",
      "INCOME\n",
      " WAGES, SALARIES, TIPS, ETC. . . . . . . . . . . . . . . . . . . . . 266,350 249,408 16,942\n",
      " INTEREST INCOME. . . . . . . . . . . . . . . . . . . . . . . . . . . . . . . . . . . . . . 9,553 13,389 -3,836\n",
      " DIVIDEND INCOME. . . . . . . . . . . . . . . . . . . . . . . . . . . . . . . . . . . . . . 23,877 23,931 -54\n",
      " BUSINESS INCOME. . . . . . . . . . . . . . . . . . . . . . . . . . . . . . . . . . . . . . 0 3,196 -3,196\n",
      " CAPITAL GAIN OR LOSS. . . . . . . . . . . . . . . . . . . . . . . . . . . . . . -3,000 -3,000 0\n",
      " RENT, ROYALTY, PARTNERSHIP, SCORP, TRUST -10,744 589 -11,333\n",
      " TOTAL INCOME. . . . . . . . . . . . . . . . . . . . . . . . . . . . . . . . . . . . . . . . . . 286,036 287,513 -1,477\n",
      "ADJUSTMENTS TO INCOME\n",
      " HEALTH SAVINGS ACCOUNT DEDUCTION. . . . . . . . . . . . 5,350 0 5,350\n",
      " DEDUCTIBLE PART OF SELF-EMPLOYMENT TAX. . . 0 43 -43\n",
      " TOTAL ADJUSTMENTS. . . . . . . . . . . . . . . . . . . . . . . . . . . . . . . . . . . 5,350 43 5,307\n",
      "\n",
      "41 Total income or (loss). Combine lines 26, 32, 37, 39, and 40. Enter the result here and on Schedule 1\n",
      "41(Form 1040), line 5. . . . . . . . . . . . . . . . . . . . . . . . . . . . . . . . . . . . . . . . . . . . . . . . . . . . . . . . . . . . . . . . . . . . . . . . . . . . . . . . . . . . . \n",
      "42 Reconciliation of farming and fishing income. Enter your gross farming\n",
      "and fishing income reported on Form 4835, line 7; Schedule K-1 (Form 1065),\n",
      "box 14, code B; Schedule K-1 (Form 1120-S), box 17, code AN; and\n",
      "42Schedule K-1 (Form 1041), box 14, code F. See instructions. . . . . . . . . . . . . . . . . . . \n",
      "43 Reconciliation for real estate professionals. If you were a real estate professional (see instructions),\n",
      "enter the net income or (loss) you reported anywhere on Form 1040, Form 1040-SR, or Form 1040-NR\n",
      "from all rental real estate activities in which you materially participated under the  passive activity\n"
     ]
    }
   ],
   "execution_count": 7
  },
  {
   "metadata": {},
   "cell_type": "code",
   "outputs": [],
   "execution_count": null,
   "source": "",
   "id": "5bec3103cc36acd2"
  }
 ],
 "metadata": {
  "kernelspec": {
   "display_name": "Python 3",
   "language": "python",
   "name": "python3"
  },
  "language_info": {
   "codemirror_mode": {
    "name": "ipython",
    "version": 2
   },
   "file_extension": ".py",
   "mimetype": "text/x-python",
   "name": "python",
   "nbconvert_exporter": "python",
   "pygments_lexer": "ipython2",
   "version": "2.7.6"
  }
 },
 "nbformat": 4,
 "nbformat_minor": 5
}
