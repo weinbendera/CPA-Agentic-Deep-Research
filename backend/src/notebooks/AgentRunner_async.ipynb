{
 "cells": [
  {
   "cell_type": "code",
   "id": "ae9349183c2f5bd7",
   "metadata": {
    "ExecuteTime": {
     "end_time": "2025-05-10T20:50:06.994997Z",
     "start_time": "2025-05-10T20:50:06.513062Z"
    }
   },
   "source": [
    "from services.tax_deep_research_service import deep_research_service\n",
    "import pytest\n",
    "from dotenv import load_dotenv\n",
    "load_dotenv()"
   ],
   "outputs": [
    {
     "ename": "ModuleNotFoundError",
     "evalue": "No module named 'dotenv'",
     "output_type": "error",
     "traceback": [
      "\u001B[31m---------------------------------------------------------------------------\u001B[39m",
      "\u001B[31mModuleNotFoundError\u001B[39m                       Traceback (most recent call last)",
      "\u001B[36mCell\u001B[39m\u001B[36m \u001B[39m\u001B[32mIn[3]\u001B[39m\u001B[32m, line 1\u001B[39m\n\u001B[32m----> \u001B[39m\u001B[32m1\u001B[39m \u001B[38;5;28;01mfrom\u001B[39;00m\u001B[38;5;250m \u001B[39m\u001B[34;01mservices\u001B[39;00m\u001B[34;01m.\u001B[39;00m\u001B[34;01mtax_deep_research_service\u001B[39;00m\u001B[38;5;250m \u001B[39m\u001B[38;5;28;01mimport\u001B[39;00m deep_research_service\n\u001B[32m      2\u001B[39m \u001B[38;5;28;01mimport\u001B[39;00m\u001B[38;5;250m \u001B[39m\u001B[34;01mpytest\u001B[39;00m\n\u001B[32m      3\u001B[39m \u001B[38;5;28;01mfrom\u001B[39;00m\u001B[38;5;250m \u001B[39m\u001B[34;01mdotenv\u001B[39;00m\u001B[38;5;250m \u001B[39m\u001B[38;5;28;01mimport\u001B[39;00m load_dotenv\n",
      "\u001B[36mFile \u001B[39m\u001B[32mC:\\Projects\\CPA-Agentic-Deep-Research-Agent\\2024-2025-trueprep-innovation-lab-tax-evaision\\backend\\src\\services\\tax_deep_research_service.py:4\u001B[39m\n\u001B[32m      2\u001B[39m \u001B[38;5;28;01mimport\u001B[39;00m\u001B[38;5;250m \u001B[39m\u001B[34;01mos\u001B[39;00m\n\u001B[32m      3\u001B[39m \u001B[38;5;28;01mfrom\u001B[39;00m\u001B[38;5;250m \u001B[39m\u001B[34;01mtyping\u001B[39;00m\u001B[38;5;250m \u001B[39m\u001B[38;5;28;01mimport\u001B[39;00m Optional\n\u001B[32m----> \u001B[39m\u001B[32m4\u001B[39m \u001B[38;5;28;01mfrom\u001B[39;00m\u001B[38;5;250m \u001B[39m\u001B[34;01mdotenv\u001B[39;00m\u001B[38;5;250m \u001B[39m\u001B[38;5;28;01mimport\u001B[39;00m load_dotenv\n\u001B[32m      5\u001B[39m \u001B[38;5;28;01mfrom\u001B[39;00m\u001B[38;5;250m \u001B[39m\u001B[34;01mfastapi\u001B[39;00m\u001B[38;5;250m \u001B[39m\u001B[38;5;28;01mimport\u001B[39;00m UploadFile\n\u001B[32m      6\u001B[39m \u001B[38;5;28;01mimport\u001B[39;00m\u001B[38;5;250m \u001B[39m\u001B[34;01muuid\u001B[39;00m\n",
      "\u001B[31mModuleNotFoundError\u001B[39m: No module named 'dotenv'"
     ]
    }
   ],
   "execution_count": 3
  },
  {
   "metadata": {},
   "cell_type": "code",
   "source": "NUM_TASKS_PER_BATCH=5",
   "id": "a6434ec309a0a276",
   "outputs": [],
   "execution_count": null
  },
  {
   "cell_type": "code",
   "id": "f49b0c76ef4ef13b",
   "metadata": {},
   "source": [
    "class DummyUploadFile:\n",
    "    def __init__(self, content: str, filename: str = \"dummy.pdf\"):\n",
    "        self.filename = filename\n",
    "        self.content_type = \"application/pdf\"\n",
    "        self._path = content\n",
    "\n",
    "    async def read(self):\n",
    "        with open(self._path, \"rb\") as f:\n",
    "            return f.read()\n",
    "\n",
    "\n",
    "pdf = \"../data/sample_returns/dummy3.pdf\"\n",
    "question = \"What specific deductions or credits can be applied to maximize the tax refund for this return? Please provide detailed numbers and calculations where applicable.\"\n",
    "question = \"How can they maximize the tax refund for this return? Focus specifically on credits and deductions based on where they live.\"\n",
    "llm_model = \"gpt-4o\"\n",
    "\n",
    "file = DummyUploadFile(content=pdf)\n",
    "\n",
    "try:\n",
    "    result = await deep_research_service(files=[file], user_question=question, llm_model=llm_model)\n",
    "    assert result is not None\n",
    "    \n",
    "except Exception as e:\n",
    "    pytest.fail(f\"process_upload raised an error: {e}\")"
   ],
   "outputs": [],
   "execution_count": null
  },
  {
   "cell_type": "code",
   "id": "89b131c1b7bb17ef",
   "metadata": {},
   "source": [
    "print(f\"(DEBUG):\\n {result[\"chain_of_thought\"]}\\n\")"
   ],
   "outputs": [],
   "execution_count": null
  },
  {
   "cell_type": "code",
   "id": "57ff7e606a31442",
   "metadata": {},
   "source": [
    "print(f\"(REPORT):\\n {result[\"report\"]}\\n\")"
   ],
   "outputs": [],
   "execution_count": null
  },
  {
   "cell_type": "code",
   "id": "f254e87a89b8aca2",
   "metadata": {},
   "source": [
    "from IPython.display import Markdown, display\n",
    "display(Markdown(result[\"report\"]))"
   ],
   "outputs": [],
   "execution_count": null
  },
  {
   "cell_type": "code",
   "id": "8d96451c",
   "metadata": {},
   "source": [],
   "outputs": [],
   "execution_count": null
  }
 ],
 "metadata": {
  "kernelspec": {
   "display_name": "venv",
   "language": "python",
   "name": "python3"
  },
  "language_info": {
   "codemirror_mode": {
    "name": "ipython",
    "version": 3
   },
   "file_extension": ".py",
   "mimetype": "text/x-python",
   "name": "python",
   "nbconvert_exporter": "python",
   "pygments_lexer": "ipython3",
   "version": "3.12.6"
  }
 },
 "nbformat": 4,
 "nbformat_minor": 5
}
