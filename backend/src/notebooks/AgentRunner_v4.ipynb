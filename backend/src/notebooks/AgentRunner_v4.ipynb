{
 "cells": [
  {
   "cell_type": "code",
   "id": "e4da1c3f",
   "metadata": {
    "ExecuteTime": {
     "end_time": "2025-04-28T19:21:33.968789Z",
     "start_time": "2025-04-28T19:21:27.416591Z"
    }
   },
   "source": [
    "from models.agent_v4 import DeepResearchAgentV4\n",
    "import os\n",
    "from dotenv import load_dotenv\n",
    "\n",
    "# Load environment variables\n",
    "load_dotenv()\n",
    "openai_api_key = os.getenv(\"OPENAI_API_KEY\")\n",
    "tavily_api_key = os.getenv(\"TAVILY_API_KEY\")"
   ],
   "outputs": [],
   "execution_count": 1
  },
  {
   "cell_type": "code",
   "id": "d5b33166",
   "metadata": {
    "ExecuteTime": {
     "end_time": "2025-04-28T19:21:56.101452Z",
     "start_time": "2025-04-28T19:21:54.765830Z"
    }
   },
   "source": [
    "# Initialize the agent\n",
    "agent = DeepResearchAgentV4(\n",
    "    llm_model=\"gpt-4o\",\n",
    "    model_key=openai_api_key,\n",
    "    tavily_api_key=tavily_api_key,\n",
    "    vectorstore=None,  # Replace with your vectorstore instance\n",
    "    number_of_tasks=3\n",
    ")"
   ],
   "outputs": [],
   "execution_count": 2
  },
  {
   "cell_type": "code",
   "id": "5e25d6ce",
   "metadata": {
    "ExecuteTime": {
     "end_time": "2025-04-28T19:22:03.318694Z",
     "start_time": "2025-04-28T19:22:03.314062Z"
    }
   },
   "source": [
    "# Define the user question and payloads\n",
    "user_question = \"What steps can I take to improve this tax return?\"\n",
    "vision_payloads = []  # Add vision payloads if applicable"
   ],
   "outputs": [],
   "execution_count": 3
  },
  {
   "cell_type": "code",
   "execution_count": null,
   "id": "8528b095",
   "metadata": {},
   "outputs": [],
   "source": [
    "# Run the agent\n",
    "response_state = agent.run(user_question, vision_payloads=vision_payloads)\n",
    "\n",
    "# Print the chain of thought and final answer\n",
    "print(response_state[\"chain_of_thought\"])\n",
    "print(\"\\nReport saved as 'Tax_Report.pdf'\")"
   ]
  }
 ],
 "metadata": {
  "kernelspec": {
   "display_name": "venv",
   "language": "python",
   "name": "python3"
  },
  "language_info": {
   "codemirror_mode": {
    "name": "ipython",
    "version": 3
   },
   "file_extension": ".py",
   "mimetype": "text/x-python",
   "name": "python",
   "nbconvert_exporter": "python",
   "pygments_lexer": "ipython3",
   "version": "3.12.6"
  }
 },
 "nbformat": 4,
 "nbformat_minor": 5
}
